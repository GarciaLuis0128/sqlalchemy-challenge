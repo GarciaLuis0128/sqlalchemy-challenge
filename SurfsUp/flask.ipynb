{
 "cells": [
  {
   "cell_type": "code",
   "execution_count": 7,
   "metadata": {},
   "outputs": [
    {
     "name": "stdout",
     "output_type": "stream",
     "text": [
      " * Serving Flask app '__main__'\n",
      " * Debug mode: on\n"
     ]
    },
    {
     "name": "stderr",
     "output_type": "stream",
     "text": [
      "WARNING: This is a development server. Do not use it in a production deployment. Use a production WSGI server instead.\n",
      " * Running on http://127.0.0.1:5000\n",
      "Press CTRL+C to quit\n",
      " * Restarting with watchdog (windowsapi)\n"
     ]
    },
    {
     "ename": "SystemExit",
     "evalue": "1",
     "output_type": "error",
     "traceback": [
      "An exception has occurred, use %tb to see the full traceback.\n",
      "\u001b[1;31mSystemExit\u001b[0m\u001b[1;31m:\u001b[0m 1\n"
     ]
    }
   ],
   "source": [
    "# app.py\n",
    "\n",
    "\n",
    "from flask import Flask, render_template\n",
    "from sqlalchemy import create_engine\n",
    "from sqlalchemy.orm import Session\n",
    "from sqlalchemy.ext.automap import automap_base\n",
    "from flask.json import jsonify\n",
    "\n",
    "app = Flask(__name__)\n",
    "\n",
    "# Database Setup\n",
    "engine = create_engine('sqlite:///C:\\\\Users\\\\LuisG\\\\Desktop\\\\sqlalchemy-challenge\\\\hawaii.sqlite')\n",
    "Base = automap_base()\n",
    "Base.prepare(engine, reflect=True)\n",
    "Measurement = Base.classes.measurement\n",
    "Station = Base.classes.station\n",
    "session = Session(engine)\n",
    "\n",
    "# Routes\n",
    "@app.route(\"/\")\n",
    "def home():\n",
    "    return render_template(\"index.html\")\n",
    "\n",
    "@app.route(\"/precipitation\")\n",
    "def precipitation():\n",
    "    precipitation_data = session.query(Measurement.date, Measurement.prcp).all()\n",
    "    return jsonify(precipitation_data)\n",
    "\n",
    "@app.route(\"/stations\")\n",
    "def stations():\n",
    "    station_data = session.query(Station.station, Station.name).all()\n",
    "    return jsonify(station_data)\n",
    "\n",
    "@app.route(\"/temperature\")\n",
    "def temperature():\n",
    "    temperature_data = session.query(Measurement.date, Measurement.tobs).all()\n",
    "    return jsonify(temperature_data)\n",
    "\n",
    "if __name__ == \"__main__\":\n",
    "    app.run(debug=True)\n"
   ]
  }
 ],
 "metadata": {
  "kernelspec": {
   "display_name": "Python 3 (ipykernel)",
   "language": "python",
   "name": "python3"
  },
  "language_info": {
   "codemirror_mode": {
    "name": "ipython",
    "version": 3
   },
   "file_extension": ".py",
   "mimetype": "text/x-python",
   "name": "python",
   "nbconvert_exporter": "python",
   "pygments_lexer": "ipython3",
   "version": "3.11.5"
  }
 },
 "nbformat": 4,
 "nbformat_minor": 2
}
